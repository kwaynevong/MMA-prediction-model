{
 "cells": [
  {
   "cell_type": "code",
   "execution_count": 2,
   "metadata": {},
   "outputs": [
    {
     "data": {
      "text/plain": [
       "<Response [200]>"
      ]
     },
     "execution_count": 2,
     "metadata": {},
     "output_type": "execute_result"
    }
   ],
   "source": [
    "import requests\n",
    "from bs4 import BeautifulSoup\n",
    "import pandas as pd\n",
    "\n",
    "url = 'http://www.ufcstats.com/fight-details/c27e33ee8ef53866'\n",
    "page = requests.get(url)\n",
    "\n",
    "page\n"
   ]
  },
  {
   "cell_type": "code",
   "execution_count": 3,
   "metadata": {},
   "outputs": [],
   "source": [
    "soup = BeautifulSoup(page.content, 'html.parser')"
   ]
  },
  {
   "cell_type": "code",
   "execution_count": 4,
   "metadata": {},
   "outputs": [
    {
     "data": {
      "text/plain": [
       "'<!DOCTYPE html>\\n<!--[if lt IE 7]>      <html class=\"no-js lt-ie9 lt-ie8 lt-ie7\"> <![endif]-->\\n<!--[if IE 7]>         <html class=\"no-js lt-ie9 lt-ie8\"> <![endif]-->\\n<!--[if IE 8]>         <html class=\"no-js ie8 lt-ie9\"> <![endif]-->\\n<!--[if gt IE 8]><!-->\\n<html class=\"no-js\">\\n <!--<![endif]-->\\n <head>\\n  <meta charset=\"utf-8\"/>\\n  <meta content=\"IE=edge\" http-equiv=\"X-UA-Compatible\"/>\\n  <title>\\n   Stats | UFC\\n  </title>\\n  <meta content=\"\" name=\"description\"/>\\n  <meta content=\"\" name=\"viewport\"/>\\n  <link href=\"/blocks/main.css?ver=34255\" rel=\"stylesheet\"/>\\n  <script src=\"/js/vendor/modernizr-2.6.2.min.js\">\\n  </script>\\n  <script>\\n   (function(i,s,o,g,r,a,m){i[\\'GoogleAnalyticsObject\\']=r;i[r]=i[r]||function(){\\n    (i[r].q=i[r].q||[]).push(arguments)},i[r].l=1*new Date();a=s.createElement(o),\\n    m=s.getElementsByTagName(o)[0];a.async=1;a.src=g;m.parentNode.insertBefore(a,m)\\n    })(window,document,\\'script\\',\\'//www.google-analytics.com/analytics.js\\',\\'ga\\');\\n\\n    ga(\\'create\\', \\'UA-2855164-1\\', \\'auto\\');\\n    ga(\\'send\\', \\'pageview\\');\\n  </script>\\n </head>\\n <body class=\"b-page\" data-link=\"home\">\\n  <header class=\"b-head\">\\n   <div class=\"b-head__nav-bar\">\\n    <div class=\"l-page__container\">\\n     <a class=\"b-head__logo\" href=\"/\">\\n      <img alt=\"\" src=\"http://1e49bc5171d173577ecd-1323f4090557a33db01577564f60846c.r80.cf1.rackcdn.com/ufc-stats-logo.png\"/>\\n     </a>\\n     <menu class=\"b-head__menu\">\\n      <li class=\"b-head__item b-head__item_state_current\">\\n       <a class=\"b-head__menu-link\" href=\"/statistics/events/\">\\n        EVENTS &amp; FIGHTS\\n       </a>\\n      </li>\\n      <li class=\"b-head__item\">\\n       <a class=\"b-head__menu-link\" href=\"/statistics/fighters\">\\n        FIGHTERS\\n       </a>\\n      </li>\\n      <li class=\"b-head__item\">\\n       <a class=\"b-head__menu-link\" href=\"http://statleaders.ufc.com\" target=\"_blank\">\\n        STAT LEADERS\\n       </a>\\n      </li>\\n     </menu>\\n    </div>\\n   </div>\\n   <div class=\"b-head__sub-nav\">\\n   </div>\\n  </header>\\n  <section class=\"b-statistics__section_details\">\\n   <div class=\"l-page__container\">\\n    <h2 class=\"b-content__title\">\\n     <a class=\"b-link\" href=\"http://www.ufcstats.com/event-details/ccd58ff71e260ed5\">\\n      UFC 291: Poirier vs. Gaethje 2\\n     </a>\\n    </h2>\\n    <div class=\"b-fight-details\">\\n     <div class=\"b-fight-details__persons clearfix\">\\n      <div class=\"b-fight-details__person\">\\n       <i class=\"b-fight-details__person-status b-fight-details__person-status_style_gray\">\\n        L\\n       </i>\\n       <div class=\"b-fight-details__person-text\">\\n        <h3 class=\"b-fight-details__person-name\">\\n         <a class=\"b-link b-fight-details__person-link\" href=\"http://www.ufcstats.com/fighter-details/029eaff01e6bb8f0\">\\n          Dustin Poirier\\n         </a>\\n        </h3>\\n        <p class=\"b-fight-details__person-title\">\\n         \"The Diamond\"\\n        </p>\\n       </div>\\n      </div>\\n      <div class=\"b-fight-details__person\">\\n       <i class=\"b-fight-details__person-status b-fight-details__person-status_style_green\">\\n        W\\n       </i>\\n       <div class=\"b-fight-details__person-text\">\\n        <h3 class=\"b-fight-details__person-name\">\\n         <a class=\"b-link b-fight-details__person-link\" href=\"http://www.ufcstats.com/fighter-details/9e8f6c728eb01124\">\\n          Justin Gaethje\\n         </a>\\n        </h3>\\n        <p class=\"b-fight-details__person-title\">\\n         \"The Highlight\"\\n        </p>\\n       </div>\\n      </div>\\n     </div>\\n     <div class=\"b-fight-details__fight\">\\n      <div class=\"b-fight-details__fight-head\">\\n       <i class=\"b-fight-details__fight-title\">\\n        <img alt=\"\" src=\"http://1e49bc5171d173577ecd-1323f4090557a33db01577564f60846c.r80.cf1.rackcdn.com/perf.png\" style=\"margin-right:2px;\"/>\\n        Lightweight Bout\\n       </i>\\n      </div>\\n      <div class=\"b-fight-details__content\">\\n       <p class=\"b-fight-details__text\">\\n        <i class=\"b-fight-details__text-item_first\">\\n         <i class=\"b-fight-details__label\">\\n          Method:\\n         </i>\\n         <i style=\"font-style: normal\">\\n          KO/TKO\\n         </i>\\n        </i>\\n        <i class=\"b-fight-details__text-item\">\\n         <i class=\"b-fight-details__label\">\\n          Round:\\n         </i>\\n         2\\n        </i>\\n        <i class=\"b-fight-details__text-item\">\\n         <i class=\"b-fight-details__label\">\\n          Time:\\n         </i>\\n         1:00\\n        </i>\\n        <i class=\"b-fight-details__text-item\">\\n         <i class=\"b-fight-details__label\">\\n          Time format:\\n         </i>\\n         5 Rnd (5-5-5-5-5)\\n        </i>\\n        <i class=\"b-fight-details__text-item\">\\n         <i class=\"b-fight-details__label\">\\n          Referee:\\n         </i>\\n         <span class=\"\">\\n          Herb Dean\\n         </span>\\n        </i>\\n       </p>\\n       <p class=\"b-fight-details__text\">\\n        <i class=\"b-fight-details__text-item_first\">\\n         <i class=\"b-fight-details__label\">\\n          Details:\\n         </i>\\n        </i>\\n        Kick to Head At Distance\\n       </p>\\n      </div>\\n     </div>\\n     <section class=\"b-fight-details__section js-fight-section\">\\n      <p class=\"b-fight-details__collapse-link_tot\">\\n       Totals\\n      </p>\\n     </section>\\n     <section class=\"b-fight-details__section js-fight-section\">\\n      <table style=\"width: 745px\">\\n       <thead class=\"b-fight-details__table-head\">\\n        <tr class=\"b-fight-details__table-row\">\\n         <th class=\"b-fight-details__table-col l-page_align_left\">\\n          Fighter\\n         </th>\\n         <th class=\"b-fight-details__table-col\">\\n          KD\\n         </th>\\n         <th class=\"b-fight-details__table-col\">\\n          Sig. str.\\n         </th>\\n         <th class=\"b-fight-details__table-col\">\\n          Sig. str. %\\n         </th>\\n         <th class=\"b-fight-details__table-col\">\\n          Total str.\\n         </th>\\n         <th class=\"b-fight-details__table-col\">\\n          Td\\n         </th>\\n         <th class=\"b-fight-details__table-col\">\\n          Td %\\n         </th>\\n         <th class=\"b-fight-details__table-col\">\\n          Sub. att\\n         </th>\\n         <th class=\"b-fight-details__table-col\">\\n          Rev.\\n         </th>\\n         <th class=\"b-fight-details__table-col\">\\n          Ctrl\\n         </th>\\n        </tr>\\n       </thead>\\n       <tbody class=\"b-fight-details__table-body\">\\n        <tr class=\"b-fight-details__table-row\">\\n         <td class=\"b-fight-details__table-col l-page_align_left\">\\n          <p class=\"b-fight-details__table-text\">\\n           <a class=\"b-link b-link_style_black\" href=\"http://www.ufcstats.com/fighter-details/029eaff01e6bb8f0\">\\n            Dustin Poirier\\n           </a>\\n          </p>\\n          <p class=\"b-fight-details__table-text\">\\n           <a class=\"b-link b-link_style_black\" href=\"http://www.ufcstats.com/fighter-details/9e8f6c728eb01124\">\\n            Justin Gaethje\\n           </a>\\n          </p>\\n         </td>\\n         <td class=\"b-fight-details__table-col\">\\n          <p class=\"b-fight-details__table-text\">\\n           0\\n          </p>\\n          <p class=\"b-fight-details__table-text\">\\n           1\\n          </p>\\n         </td>\\n         <td class=\"b-fight-details__table-col\">\\n          <p class=\"b-fight-details__table-text\">\\n           27 of 52\\n          </p>\\n          <p class=\"b-fight-details__table-text\">\\n           41 of 66\\n          </p>\\n         </td>\\n         <td class=\"b-fight-details__table-col\">\\n          <p class=\"b-fight-details__table-text\">\\n           51%\\n          </p>\\n          <p class=\"b-fight-details__table-text\">\\n           62%\\n          </p>\\n         </td>\\n         <td class=\"b-fight-details__table-col\">\\n          <p class=\"b-fight-details__table-text\">\\n           27 of 52\\n          </p>\\n          <p class=\"b-fight-details__table-text\">\\n           41 of 66\\n          </p>\\n         </td>\\n         <td class=\"b-fight-details__table-col\">\\n          <p class=\"b-fight-details__table-text\">\\n           0 of 0\\n          </p>\\n          <p class=\"b-fight-details__table-text\">\\n           0 of 0\\n          </p>\\n         </td>\\n         <td class=\"b-fight-details__table-col\">\\n          <p class=\"b-fight-details__table-text\">\\n           ---\\n          </p>\\n          <p class=\"b-fight-details__table-text\">\\n           ---\\n          </p>\\n         </td>\\n         <td class=\"b-fight-details__table-col\">\\n          <p class=\"b-fight-details__table-text\">\\n           0\\n          </p>\\n          <p class=\"b-fight-details__table-text\">\\n           0\\n          </p>\\n         </td>\\n         <td class=\"b-fight-details__table-col\">\\n          <p class=\"b-fight-details__table-text\">\\n           0\\n          </p>\\n          <p class=\"b-fight-details__table-text\">\\n           0\\n          </p>\\n         </td>\\n         <td class=\"b-fight-details__table-col\">\\n          <p class=\"b-fight-details__table-text\">\\n           0:00\\n          </p>\\n          <p class=\"b-fight-details__table-text\">\\n           0:00\\n          </p>\\n         </td>\\n        </tr>\\n       </tbody>\\n      </table>\\n     </section>\\n     <section class=\"b-fight-details__section js-fight-section\">\\n      <a class=\"b-fight-details__collapse-link_rnd js-fight-collapse-link\">\\n       <i class=\"b-fight-details__collapse-left\">\\n        Per round\\n        <i class=\"b-fight-details__arrow\">\\n        </i>\\n       </i>\\n      </a>\\n      <table class=\"b-fight-details__table js-fight-table\" style=\"width: 745px;margin-bottom: 0px;\">\\n       <thead class=\"b-fight-details__table-head_rnd\">\\n        <tr class=\"b-fight-details__table-row\">\\n         <th class=\"b-fight-details__table-col l-page_align_left\">\\n          Fighter\\n         </th>\\n         <th class=\"b-fight-details__table-col\">\\n          KD\\n         </th>\\n         <th class=\"b-fight-details__table-col\">\\n          Sig. str.\\n         </th>\\n         <th class=\"b-fight-details__table-col\">\\n          Sig. str. %\\n         </th>\\n         <th class=\"b-fight-details__table-col\">\\n          Total str.\\n         </th>\\n         <th class=\"b-fight-details__table-col\">\\n          Td %\\n         </th>\\n         <th class=\"b-fight-details__table-col\">\\n          Td %\\n         </th>\\n         <th class=\"b-fight-details__table-col\">\\n          Sub. att\\n         </th>\\n         <th class=\"b-fight-details__table-col\">\\n          Rev.\\n         </th>\\n         <th class=\"b-fight-details__table-col\">\\n          Ctrl\\n         </th>\\n        </tr>\\n       </thead>\\n       <tbody class=\"b-fight-details__table-body\">\\n        <thead class=\"b-fight-details__table-row b-fight-details__table-row_type_head\">\\n         <th class=\"b-fight-details__table-col\" colspan=\"10\">\\n          Round 1\\n         </th>\\n        </thead>\\n        <tr class=\"b-fight-details__table-row\">\\n         <td class=\"b-fight-details__table-col l-page_align_left\">\\n          <p class=\"b-fight-details__table-text\">\\n           <a class=\"b-link b-link_style_black\" href=\"http://www.ufcstats.com/fighter-details/029eaff01e6bb8f0\">\\n            Dustin Poirier\\n           </a>\\n          </p>\\n          <p class=\"b-fight-details__table-text\">\\n           <a class=\"b-link b-link_style_black\" href=\"http://www.ufcstats.com/fighter-details/9e8f6c728eb01124\">\\n            Justin Gaethje\\n           </a>\\n          </p>\\n         </td>\\n         <td class=\"b-fight-details__table-col\">\\n          <p class=\"b-fight-details__table-text\">\\n           0\\n          </p>\\n          <p class=\"b-fight-details__table-text\">\\n           0\\n          </p>\\n         </td>\\n         <td class=\"b-fight-details__table-col\">\\n          <p class=\"b-fight-details__table-text\">\\n           27 of 51\\n          </p>\\n          <p class=\"b-fight-details__table-text\">\\n           33 of 56\\n          </p>\\n         </td>\\n         <td class=\"b-fight-details__table-col\">\\n          <p class=\"b-fight-details__table-text\">\\n           52%\\n          </p>\\n          <p class=\"b-fight-details__table-text\">\\n           58%\\n          </p>\\n         </td>\\n         <td class=\"b-fight-details__table-col\">\\n          <p class=\"b-fight-details__table-text\">\\n           27 of 51\\n          </p>\\n          <p class=\"b-fight-details__table-text\">\\n           33 of 56\\n          </p>\\n         </td>\\n         <td class=\"b-fight-details__table-col\">\\n          <p class=\"b-fight-details__table-text\">\\n           0 of 0\\n          </p>\\n          <p class=\"b-fight-details__table-text\">\\n           0 of 0\\n          </p>\\n         </td>\\n         <td class=\"b-fight-details__table-col\">\\n          <p class=\"b-fight-details__table-text\">\\n           ---\\n          </p>\\n          <p class=\"b-fight-details__table-text\">\\n           ---\\n          </p>\\n         </td>\\n         <td class=\"b-fight-details__table-col\">\\n          <p class=\"b-fight-details__table-text\">\\n           0\\n          </p>\\n          <p class=\"b-fight-details__table-text\">\\n           0\\n          </p>\\n         </td>\\n         <td class=\"b-fight-details__table-col\">\\n          <p class=\"b-fight-details__table-text\">\\n           0\\n          </p>\\n          <p class=\"b-fight-details__table-text\">\\n           0\\n          </p>\\n         </td>\\n         <td class=\"b-fight-details__table-col\">\\n          <p class=\"b-fight-details__table-text\">\\n           0:00\\n          </p>\\n          <p class=\"b-fight-details__table-text\">\\n           0:00\\n          </p>\\n         </td>\\n        </tr>\\n        <thead class=\"b-fight-details__table-row b-fight-details__table-row_type_head\">\\n         <th class=\"b-fight-details__table-col\" colspan=\"10\">\\n          Round 2\\n         </th>\\n        </thead>\\n        <tr class=\"b-fight-details__table-row\">\\n         <td class=\"b-fight-details__table-col l-page_align_left\">\\n          <p class=\"b-fight-details__table-text\">\\n           <a class=\"b-link b-link_style_black\" href=\"http://www.ufcstats.com/fighter-details/029eaff01e6bb8f0\">\\n            Dustin Poirier\\n           </a>\\n          </p>\\n          <p class=\"b-fight-details__table-text\">\\n           <a class=\"b-link b-link_style_black\" href=\"http://www.ufcstats.com/fighter-details/9e8f6c728eb01124\">\\n            Justin Gaethje\\n           </a>\\n          </p>\\n         </td>\\n         <td class=\"b-fight-details__table-col\">\\n          <p class=\"b-fight-details__table-text\">\\n           0\\n          </p>\\n          <p class=\"b-fight-details__table-text\">\\n           1\\n          </p>\\n         </td>\\n         <td class=\"b-fight-details__table-col\">\\n          <p class=\"b-fight-details__table-text\">\\n           0 of 1\\n          </p>\\n          <p class=\"b-fight-details__table-text\">\\n           8 of 10\\n          </p>\\n         </td>\\n         <td class=\"b-fight-details__table-col\">\\n          <p class=\"b-fight-details__table-text\">\\n           0%\\n          </p>\\n          <p class=\"b-fight-details__table-text\">\\n           80%\\n          </p>\\n         </td>\\n         <td class=\"b-fight-details__table-col\">\\n          <p class=\"b-fight-details__table-text\">\\n           0 of 1\\n          </p>\\n          <p class=\"b-fight-details__table-text\">\\n           8 of 10\\n          </p>\\n         </td>\\n         <td class=\"b-fight-details__table-col\">\\n          <p class=\"b-fight-details__table-text\">\\n           0 of 0\\n          </p>\\n          <p class=\"b-fight-details__table-text\">\\n           0 of 0\\n          </p>\\n         </td>\\n         <td class=\"b-fight-details__table-col\">\\n          <p class=\"b-fight-details__table-text\">\\n           ---\\n          </p>\\n          <p class=\"b-fight-details__table-text\">\\n           ---\\n          </p>\\n         </td>\\n         <td class=\"b-fight-details__table-col\">\\n          <p class=\"b-fight-details__table-text\">\\n           0\\n          </p>\\n          <p class=\"b-fight-details__table-text\">\\n           0\\n          </p>\\n         </td>\\n         <td class=\"b-fight-details__table-col\">\\n          <p class=\"b-fight-details__table-text\">\\n           0\\n          </p>\\n          <p class=\"b-fight-details__table-text\">\\n           0\\n          </p>\\n         </td>\\n         <td class=\"b-fight-details__table-col\">\\n          <p class=\"b-fight-details__table-text\">\\n           0:00\\n          </p>\\n          <p class=\"b-fight-details__table-text\">\\n           0:00\\n          </p>\\n         </td>\\n        </tr>\\n       </tbody>\\n      </table>\\n     </section>\\n     <section class=\"b-fight-details__section js-fight-section\">\\n      <p class=\"b-fight-details__collapse-link_tot\" style=\"margin-bottom: 0px;margin-top: 0px;\">\\n       Significant Strikes\\n      </p>\\n     </section>\\n     <table style=\"width: 745px\">\\n      <thead class=\"b-fight-details__table-head\">\\n       <tr class=\"b-fight-details__table-row\">\\n        <th class=\"b-fight-details__table-col l-page_align_left\">\\n         Fighter\\n        </th>\\n        <th class=\"b-fight-details__table-col\">\\n         Sig. str\\n        </th>\\n        <th class=\"b-fight-details__table-col\">\\n         Sig. str. %\\n        </th>\\n        <th class=\"b-fight-details__table-col\">\\n         Head\\n        </th>\\n        <th class=\"b-fight-details__table-col\">\\n         Body\\n        </th>\\n        <th class=\"b-fight-details__table-col\">\\n         Leg\\n        </th>\\n        <th class=\"b-fight-details__table-col\">\\n         Distance\\n        </th>\\n        <th class=\"b-fight-details__table-col\">\\n         Clinch\\n        </th>\\n        <th class=\"b-fight-details__table-col\">\\n         Ground\\n        </th>\\n       </tr>\\n      </thead>\\n      <tbody class=\"b-fight-details__table-body\">\\n       <tr class=\"b-fight-details__table-row\">\\n        <td class=\"b-fight-details__table-col l-page_align_left\">\\n         <p class=\"b-fight-details__table-text\">\\n          <a class=\"b-link b-link_style_black\" href=\"http://www.ufcstats.com/fighter-details/029eaff01e6bb8f0\">\\n           Dustin Poirier\\n          </a>\\n         </p>\\n         <p class=\"b-fight-details__table-text\">\\n          <a class=\"b-link b-link_style_black\" href=\"http://www.ufcstats.com/fighter-details/9e8f6c728eb01124\">\\n           Justin Gaethje\\n          </a>\\n         </p>\\n        </td>\\n        <td class=\"b-fight-details__table-col\">\\n         <p class=\"b-fight-details__table-text\">\\n          27 of 52\\n         </p>\\n         <p class=\"b-fight-details__table-text\">\\n          41 of 66\\n         </p>\\n        </td>\\n        <td class=\"b-fight-details__table-col\">\\n         <p class=\"b-fight-details__table-text\">\\n          51%\\n         </p>\\n         <p class=\"b-fight-details__table-text\">\\n          62%\\n         </p>\\n        </td>\\n        <td class=\"b-fight-details__table-col\">\\n         <p class=\"b-fight-details__table-text\">\\n          21 of 46\\n         </p>\\n         <p class=\"b-fight-details__table-text\">\\n          23 of 48\\n         </p>\\n        </td>\\n        <td class=\"b-fight-details__table-col\">\\n         <p class=\"b-fight-details__table-text\">\\n          4 of 4\\n         </p>\\n         <p class=\"b-fight-details__table-text\">\\n          7 of 7\\n         </p>\\n        </td>\\n        <td class=\"b-fight-details__table-col\">\\n         <p class=\"b-fight-details__table-text\">\\n          2 of 2\\n         </p>\\n         <p class=\"b-fight-details__table-text\">\\n          11 of 11\\n         </p>\\n        </td>\\n        <td class=\"b-fight-details__table-col\">\\n         <p class=\"b-fight-details__table-text\">\\n          25 of 49\\n         </p>\\n         <p class=\"b-fight-details__table-text\">\\n          38 of 63\\n         </p>\\n        </td>\\n        <td class=\"b-fight-details__table-col\">\\n         <p class=\"b-fight-details__table-text\">\\n          2 of 3\\n         </p>\\n         <p class=\"b-fight-details__table-text\">\\n          2 of 2\\n         </p>\\n        </td>\\n        <td class=\"b-fight-details__table-col\">\\n         <p class=\"b-fight-details__table-text\">\\n          0 of 0\\n         </p>\\n         <p class=\"b-fight-details__table-text\">\\n          1 of 1\\n         </p>\\n        </td>\\n       </tr>\\n      </tbody>\\n     </table>\\n     <section class=\"b-fight-details__section js-fight-section\">\\n      <a class=\"b-fight-details__collapse-link_rnd js-fight-collapse-link\">\\n       <i class=\"b-fight-details__collapse-left\">\\n        Per round\\n        <i class=\"b-fight-details__arrow\">\\n        </i>\\n       </i>\\n      </a>\\n      <table class=\"b-fight-details__table js-fight-table\" style=\"width: 745px;margin-bottom: 0px;\">\\n       <thead class=\"b-fight-details__table-head_rnd\">\\n        <tr class=\"b-fight-details__table-row\">\\n         <th class=\"b-fight-details__table-col l-page_align_left\">\\n          Fighter\\n         </th>\\n         <th class=\"b-fight-details__table-col\">\\n          Sig. str\\n         </th>\\n         <th class=\"b-fight-details__table-col\">\\n          Sig. str. %\\n         </th>\\n         <th class=\"b-fight-details__table-col\">\\n          Head\\n         </th>\\n         <th class=\"b-fight-details__table-col\">\\n          Body\\n         </th>\\n         <th class=\"b-fight-details__table-col\">\\n          Leg\\n         </th>\\n         <th class=\"b-fight-details__table-col\">\\n          Distance\\n         </th>\\n         <th class=\"b-fight-details__table-col\">\\n          Clinch\\n         </th>\\n         <th class=\"b-fight-details__table-col\">\\n          Ground\\n         </th>\\n        </tr>\\n       </thead>\\n       <tbody class=\"b-fight-details__table-body\">\\n        <thead class=\"b-fight-details__table-row b-fight-details__table-row_type_head\">\\n         <th class=\"b-fight-details__table-col\" colspan=\"10\">\\n          Round 1\\n         </th>\\n        </thead>\\n        <tr class=\"b-fight-details__table-row\">\\n         <td class=\"b-fight-details__table-col l-page_align_left\">\\n          <p class=\"b-fight-details__table-text\">\\n           <a class=\"b-link b-link_style_black\" href=\"http://www.ufcstats.com/fighter-details/029eaff01e6bb8f0\">\\n            Dustin Poirier\\n           </a>\\n          </p>\\n          <p class=\"b-fight-details__table-text\">\\n           <a class=\"b-link b-link_style_black\" href=\"http://www.ufcstats.com/fighter-details/9e8f6c728eb01124\">\\n            Justin Gaethje\\n           </a>\\n          </p>\\n         </td>\\n         <td class=\"b-fight-details__table-col\">\\n          <p class=\"b-fight-details__table-text\">\\n           27 of 51\\n          </p>\\n          <p class=\"b-fight-details__table-text\">\\n           33 of 56\\n          </p>\\n         </td>\\n         <td class=\"b-fight-details__table-col\">\\n          <p class=\"b-fight-details__table-text\">\\n           52%\\n          </p>\\n          <p class=\"b-fight-details__table-text\">\\n           58%\\n          </p>\\n         </td>\\n         <td class=\"b-fight-details__table-col\">\\n          <p class=\"b-fight-details__table-text\">\\n           21 of 45\\n          </p>\\n          <p class=\"b-fight-details__table-text\">\\n           18 of 41\\n          </p>\\n         </td>\\n         <td class=\"b-fight-details__table-col\">\\n          <p class=\"b-fight-details__table-text\">\\n           4 of 4\\n          </p>\\n          <p class=\"b-fight-details__table-text\">\\n           5 of 5\\n          </p>\\n         </td>\\n         <td class=\"b-fight-details__table-col\">\\n          <p class=\"b-fight-details__table-text\">\\n           2 of 2\\n          </p>\\n          <p class=\"b-fight-details__table-text\">\\n           10 of 10\\n          </p>\\n         </td>\\n         <td class=\"b-fight-details__table-col\">\\n          <p class=\"b-fight-details__table-text\">\\n           25 of 48\\n          </p>\\n          <p class=\"b-fight-details__table-text\">\\n           31 of 54\\n          </p>\\n         </td>\\n         <td class=\"b-fight-details__table-col\">\\n          <p class=\"b-fight-details__table-text\">\\n           2 of 3\\n          </p>\\n          <p class=\"b-fight-details__table-text\">\\n           2 of 2\\n          </p>\\n         </td>\\n         <td class=\"b-fight-details__table-col\">\\n          <p class=\"b-fight-details__table-text\">\\n           0 of 0\\n          </p>\\n          <p class=\"b-fight-details__table-text\">\\n           0 of 0\\n          </p>\\n         </td>\\n        </tr>\\n        <thead class=\"b-fight-details__table-row b-fight-details__table-row_type_head\">\\n         <th class=\"b-fight-details__table-col\" colspan=\"10\">\\n          Round 2\\n         </th>\\n        </thead>\\n        <tr class=\"b-fight-details__table-row\">\\n         <td class=\"b-fight-details__table-col l-page_align_left\">\\n          <p class=\"b-fight-details__table-text\">\\n           <a class=\"b-link b-link_style_black\" href=\"http://www.ufcstats.com/fighter-details/029eaff01e6bb8f0\">\\n            Dustin Poirier\\n           </a>\\n          </p>\\n          <p class=\"b-fight-details__table-text\">\\n           <a class=\"b-link b-link_style_black\" href=\"http://www.ufcstats.com/fighter-details/9e8f6c728eb01124\">\\n            Justin Gaethje\\n           </a>\\n          </p>\\n         </td>\\n         <td class=\"b-fight-details__table-col\">\\n          <p class=\"b-fight-details__table-text\">\\n           0 of 1\\n          </p>\\n          <p class=\"b-fight-details__table-text\">\\n           8 of 10\\n          </p>\\n         </td>\\n         <td class=\"b-fight-details__table-col\">\\n          <p class=\"b-fight-details__table-text\">\\n           0%\\n          </p>\\n          <p class=\"b-fight-details__table-text\">\\n           80%\\n          </p>\\n         </td>\\n         <td class=\"b-fight-details__table-col\">\\n          <p class=\"b-fight-details__table-text\">\\n           0 of 1\\n          </p>\\n          <p class=\"b-fight-details__table-text\">\\n           5 of 7\\n          </p>\\n         </td>\\n         <td class=\"b-fight-details__table-col\">\\n          <p class=\"b-fight-details__table-text\">\\n           0 of 0\\n          </p>\\n          <p class=\"b-fight-details__table-text\">\\n           2 of 2\\n          </p>\\n         </td>\\n         <td class=\"b-fight-details__table-col\">\\n          <p class=\"b-fight-details__table-text\">\\n           0 of 0\\n          </p>\\n          <p class=\"b-fight-details__table-text\">\\n           1 of 1\\n          </p>\\n         </td>\\n         <td class=\"b-fight-details__table-col\">\\n          <p class=\"b-fight-details__table-text\">\\n           0 of 1\\n          </p>\\n          <p class=\"b-fight-details__table-text\">\\n           7 of 9\\n          </p>\\n         </td>\\n         <td class=\"b-fight-details__table-col\">\\n          <p class=\"b-fight-details__table-text\">\\n           0 of 0\\n          </p>\\n          <p class=\"b-fight-details__table-text\">\\n           0 of 0\\n          </p>\\n         </td>\\n         <td class=\"b-fight-details__table-col\">\\n          <p class=\"b-fight-details__table-text\">\\n           0 of 0\\n          </p>\\n          <p class=\"b-fight-details__table-text\">\\n           1 of 1\\n          </p>\\n         </td>\\n        </tr>\\n       </tbody>\\n      </table>\\n     </section>\\n     <section class=\"b-fight-details__section\">\\n      <div class=\"b-fight-details__charts\">\\n       <header class=\"b-fight-details__charts-head b-fight-details__charts-head_style_bordered\">\\n        <h3 class=\"b-fight-details__charts-head-title\">\\n         Significant Strikes\\n        </h3>\\n        <i class=\"b-fight-details__charts-name b-fight-details__charts-name_pos_left js-chart-name\" data-color=\"red\">\\n         <i class=\"b-fight-details__charts-bullet\">\\n         </i>\\n         Dustin Poirier\\n        </i>\\n        <i class=\"b-fight-details__charts-name b-fight-details__charts-name_pos_right js-chart-name\" data-color=\"blue\">\\n         <i class=\"b-fight-details__charts-bullet\">\\n         </i>\\n         Justin Gaethje\\n        </i>\\n       </header>\\n       <div class=\"b-fight-details__charts-body clearfix\">\\n        <div class=\"b-fight-details__charts-col\">\\n         <div class=\"b-fight-details__charts-col-row clearfix\">\\n          <h4 class=\"b-fight-details__charts-title\">\\n           Landed by target\\n          </h4>\\n          <div class=\"b-fight-details__chart-inner clearfix\">\\n           <div class=\"b-fight-details__stacked-chart js-red&gt;\">\\n            <i class=\"b-fight-details__stacked-chart-fill b-fight-details__stacked-chart-fill_style_red js-alt\" style=\"height: 77.77777777777777%\">\\n             <i class=\"b-rating__alt b-rating__alt_pos_right-bottom\">\\n              <i class=\"b-rating__alt-pointer\">\\n              </i>\\n              Avg. 50%   High 80%\\n             </i>\\n            </i>\\n            <i class=\"b-fight-details__stacked-chart-fill b-fight-details__stacked-chart-fill_style_dark-red js-alt\" style=\"height: 14.814814814814815%\">\\n             <i class=\"b-rating__alt b-rating__alt_pos_right-bottom\">\\n              <i class=\"b-rating__alt-pointer\">\\n              </i>\\n              Avg. 50%   High 80%\\n             </i>\\n            </i>\\n            <i class=\"b-fight-details__stacked-chart-fill b-fight-details__stacked-chart-fill_style_light-red js-alt\" style=\"height: 7.407407407407407%\">\\n             <i class=\"b-rating__alt b-rating__alt_pos_right-bottom\">\\n              <i class=\"b-rating__alt-pointer\">\\n              </i>\\n              Avg. 50%   High 80%\\n             </i>\\n            </i>\\n           </div>\\n           <div class=\"b-fight-details__charts-table\">\\n            <div class=\"b-fight-details__charts-row\">\\n             <i class=\"b-fight-details__charts-num b-fight-details__charts-num_style_red b-fight-details__charts-num_pos_left js-red\">\\n              77%\\n             </i>\\n             <i class=\"b-fight-details__charts-row-title\">\\n              Head\\n             </i>\\n             <i class=\"b-fight-details__charts-num b-fight-details__charts-num_style_blue b-fight-details__charts-num_pos_right js-blue\">\\n              56%\\n             </i>\\n            </div>\\n            <div class=\"b-fight-details__charts-row\">\\n             <i class=\"b-fight-details__charts-num b-fight-details__charts-num_style_dark-red b-fight-details__charts-num_pos_left js-red\">\\n              14%\\n             </i>\\n             <i class=\"b-fight-details__charts-row-title\">\\n              Body\\n             </i>\\n             <i class=\"b-fight-details__charts-num b-fight-details__charts-num_style_dark-blue b-fight-details__charts-num_pos_right js-blue\">\\n              17%\\n             </i>\\n            </div>\\n            <div class=\"b-fight-details__charts-row\">\\n             <i class=\"b-fight-details__charts-num b-fight-details__charts-num_style_light-red b-fight-details__charts-num_pos_left js-red\">\\n              7%\\n             </i>\\n             <i class=\"b-fight-details__charts-row-title\">\\n              Leg\\n             </i>\\n             <i class=\"b-fight-details__charts-num b-fight-details__charts-num_style_light-blue b-fight-details__charts-num_pos_right js-blue\">\\n              26%\\n             </i>\\n            </div>\\n           </div>\\n           <div class=\"b-fight-details__stacked-chart js-blue&gt;\">\\n            <i class=\"b-fight-details__stacked-chart-fill b-fight-details__stacked-chart-fill_style_blue js-alt\" style=\"height: 56.09756097560975%\">\\n             <i class=\"b-rating__alt b-rating__alt_pos_right-bottom\">\\n              <i class=\"b-rating__alt-pointer\">\\n              </i>\\n              Avg. 50%   High 80%\\n             </i>\\n            </i>\\n            <i class=\"b-fight-details__stacked-chart-fill b-fight-details__stacked-chart-fill_style_dark-blue js-alt\" style=\"height: 17.073170731707318%\">\\n             <i class=\"b-rating__alt b-rating__alt_pos_right-bottom\">\\n              <i class=\"b-rating__alt-pointer\">\\n              </i>\\n              Avg. 50%   High 80%\\n             </i>\\n            </i>\\n            <i class=\"b-fight-details__stacked-chart-fill b-fight-details__stacked-chart-fill_style_light-blue js-alt\" style=\"height: 26.829268292682926%\">\\n             <i class=\"b-rating__alt b-rating__alt_pos_right-bottom\">\\n              <i class=\"b-rating__alt-pointer\">\\n              </i>\\n              Avg. 50%   High 80%\\n             </i>\\n            </i>\\n           </div>\\n          </div>\\n         </div>\\n         <div class=\"b-fight-details__charts-col-row clearfix\">\\n          <h4 class=\"b-fight-details__charts-title\">\\n           Landed by position\\n          </h4>\\n          <div class=\"b-fight-details__chart-inner\">\\n           <div class=\"b-fight-details__stacked-chart js-red&gt;\">\\n            <i class=\"b-fight-details__stacked-chart-fill b-fight-details__stacked-chart-fill_style_red js-alt\" style=\"height: 92.5925925925926%\">\\n             <i class=\"b-rating__alt b-rating__alt_pos_right-bottom\">\\n              <i class=\"b-rating__alt-pointer\">\\n              </i>\\n              Avg. 50%   High 80%\\n             </i>\\n            </i>\\n            <i class=\"b-fight-details__stacked-chart-fill b-fight-details__stacked-chart-fill_style_dark-red js-alt\" style=\"height: 7.407407407407407%\">\\n             <i class=\"b-rating__alt b-rating__alt_pos_right-bottom\">\\n              <i class=\"b-rating__alt-pointer\">\\n              </i>\\n              Avg. 50%   High 80%\\n             </i>\\n            </i>\\n            <i class=\"b-fight-details__stacked-chart-fill b-fight-details__stacked-chart-fill_style_light-red js-alt\" style=\"height: 0.0%\">\\n             <i class=\"b-rating__alt b-rating__alt_pos_right-bottom\">\\n              <i class=\"b-rating__alt-pointer\">\\n              </i>\\n              Avg. 50%   High 80%\\n             </i>\\n            </i>\\n           </div>\\n           <div class=\"b-fight-details__charts-table\">\\n            <div class=\"b-fight-details__charts-row\">\\n             <i class=\"b-fight-details__charts-num b-fight-details__charts-num_style_red b-fight-details__charts-num_pos_left js-red\">\\n              92%\\n             </i>\\n             <i class=\"b-fight-details__charts-row-title\">\\n              Distance\\n             </i>\\n             <i class=\"b-fight-details__charts-num b-fight-details__charts-num_style_blue b-fight-details__charts-num_pos_right js-blue\">\\n              92%\\n             </i>\\n            </div>\\n            <div class=\"b-fight-details__charts-row\">\\n             <i class=\"b-fight-details__charts-num b-fight-details__charts-num_style_dark-red b-fight-details__charts-num_pos_left js-red\">\\n              7%\\n             </i>\\n             <i class=\"b-fight-details__charts-row-title\">\\n              Clinch\\n             </i>\\n             <i class=\"b-fight-details__charts-num b-fight-details__charts-num_style_dark-blue b-fight-details__charts-num_pos_right js-blue\">\\n              4%\\n             </i>\\n            </div>\\n            <div class=\"b-fight-details__charts-row\">\\n             <i class=\"b-fight-details__charts-num b-fight-details__charts-num_style_light-red b-fight-details__charts-num_pos_left js-red\">\\n              0%\\n             </i>\\n             <i class=\"b-fight-details__charts-row-title\">\\n              Ground\\n             </i>\\n             <i class=\"b-fight-details__charts-num b-fight-details__charts-num_style_light-blue b-fight-details__charts-num_pos_right js-blue\">\\n              2%\\n             </i>\\n            </div>\\n           </div>\\n           <div class=\"b-fight-details__stacked-chart js-blue&gt;\">\\n            <i class=\"b-fight-details__stacked-chart-fill b-fight-details__stacked-chart-fill_style_blue js-alt\" style=\"height: 92.6829268292683%\">\\n             <i class=\"b-rating__alt b-rating__alt_pos_right-bottom\">\\n              <i class=\"b-rating__alt-pointer\">\\n              </i>\\n              Avg. 50%   High 80%\\n             </i>\\n            </i>\\n            <i class=\"b-fight-details__stacked-chart-fill b-fight-details__stacked-chart-fill_style_dark-blue js-alt\" style=\"height: 4.878048780487805%\">\\n             <i class=\"b-rating__alt b-rating__alt_pos_right-bottom\">\\n              <i class=\"b-rating__alt-pointer\">\\n              </i>\\n              Avg. 50%   High 80%\\n             </i>\\n            </i>\\n            <i class=\"b-fight-details__stacked-chart-fill b-fight-details__stacked-chart-fill_style_light-blue js-alt\" style=\"height: 2.4390243902439024%\">\\n             <i class=\"b-rating__alt b-rating__alt_pos_right-bottom\">\\n              <i class=\"b-rating__alt-pointer\">\\n              </i>\\n              Avg. 50%   High 80%\\n             </i>\\n            </i>\\n           </div>\\n          </div>\\n         </div>\\n        </div>\\n        <div class=\"b-fight-details__charts-col b-fight-details__charts-col_pos_right\">\\n         <div class=\"b-fight-details__charts-col-row\">\\n          <h4 class=\"b-fight-details__charts-title b-fight-details__charts-title_type_left\">\\n           Per round\\n          </h4>\\n          <div class=\"b-fight-details__bar-charts-inner\">\\n           <div class=\"b-fight-details__bar-charts-row clearfix\">\\n            <i class=\"b-fight-details__bar-chart-title\">\\n             RD1\\n            </i>\\n            <i class=\"b-fight-details__bar-chart-inner\">\\n             <i class=\"b-fight-details__bar-chart-row js-red\">\\n              <i class=\"b-fight-details__bar-chart b-fight-details__bar-chart_style_red\" style=\"width: 102.00000000000001px\">\\n               <i class=\"b-fight-details__bar-chart-fill\" style=\"width: 53.9988px\">\\n               </i>\\n              </i>\\n              <i class=\"b-fight-details__bar-chart-text b-fight-details__bar-chart-text_style_light-red\">\\n               27 of 51 - 52%\\n              </i>\\n             </i>\\n             <i class=\"b-fight-details__bar-chart-row js-blue\">\\n              <i class=\"b-fight-details__bar-chart b-fight-details__bar-chart_style_blue\" style=\"width: 112.0px\">\\n               <i class=\"b-fight-details__bar-chart-fill\" style=\"width: 66.00160000000001px\">\\n               </i>\\n              </i>\\n              <i class=\"b-fight-details__bar-chart-text b-fight-details__bar-chart-text_style_light-blue\">\\n               33 of 56 - 58%\\n              </i>\\n             </i>\\n            </i>\\n           </div>\\n           <div class=\"b-fight-details__bar-charts-row clearfix\">\\n            <i class=\"b-fight-details__bar-chart-title\">\\n             RD2\\n            </i>\\n            <i class=\"b-fight-details__bar-chart-inner\">\\n             <i class=\"b-fight-details__bar-chart-row js-red\">\\n              <i class=\"b-fight-details__bar-chart b-fight-details__bar-chart_style_red\" style=\"width: 2.0px\">\\n               <i class=\"b-fight-details__bar-chart-fill\" style=\"width: 0.0px\">\\n               </i>\\n              </i>\\n              <i class=\"b-fight-details__bar-chart-text b-fight-details__bar-chart-text_style_light-red\">\\n               0 of 1 - 0%\\n              </i>\\n             </i>\\n             <i class=\"b-fight-details__bar-chart-row js-blue\">\\n              <i class=\"b-fight-details__bar-chart b-fight-details__bar-chart_style_blue\" style=\"width: 20.0px\">\\n               <i class=\"b-fight-details__bar-chart-fill\" style=\"width: 16.0px\">\\n               </i>\\n              </i>\\n              <i class=\"b-fight-details__bar-chart-text b-fight-details__bar-chart-text_style_light-blue\">\\n               8 of 10 - 80%\\n              </i>\\n             </i>\\n            </i>\\n           </div>\\n           <div class=\"b-fight-details__bar-legend\">\\n            <i class=\"b-fight-details__bar-legend-row\">\\n             <i class=\"b-fight-details__bar-legend-dot b-fight-details__bar-legend-dot_style_red js-red\">\\n             </i>\\n             <i class=\"b-fight-details__bar-legend-dot b-fight-details__bar-legend-dot_style_blue js-blue\">\\n             </i>\\n             <i class=\"b-fight-details__bar-legend-text\">\\n              Landed\\n             </i>\\n            </i>\\n            <i class=\"b-fight-details__bar-legend-row\">\\n             <i class=\"b-fight-details__bar-legend-dot b-fight-details__bar-legend-dot_style_red b-fight-details__bar-legend-dot_type_empty js-red\">\\n             </i>\\n             <i class=\"b-fight-details__bar-legend-dot b-fight-details__bar-legend-dot_style_blue b-fight-details__bar-legend-dot_type_empty js-blue\">\\n             </i>\\n             <i class=\"b-fight-details__bar-legend-text\">\\n              Attempted\\n             </i>\\n            </i>\\n           </div>\\n          </div>\\n         </div>\\n        </div>\\n        <i class=\"b-fight-details__charts-line\">\\n        </i>\\n       </div>\\n      </div>\\n     </section>\\n    </div>\\n   </div>\\n  </section>\\n  <footer class=\"b-foot\">\\n   <div class=\"b-foot__inner\">\\n    <div class=\"l-page__container clearfix\">\\n     <div class=\"b-foot__right\">\\n      <div class=\"b-foot__list-inner\">\\n       <h4 class=\"b-foot__list-title\">\\n        Navigation\\n       </h4>\\n       <ul class=\"b-foot__list\">\\n        <li class=\"b-foot__item\">\\n         <a class=\"b-foot__link\" href=\"/statistics/events/\">\\n          Events &amp; Fights\\n         </a>\\n        </li>\\n        <li class=\"b-foot__item\">\\n         <a class=\"b-foot__link\" href=\"/statistics/fighters\">\\n          Fighters\\n         </a>\\n        </li>\\n        <li class=\"b-foot__item\">\\n         <a class=\"b-foot__link\" href=\"http://statleaders.ufc.com\" target=\"_blank\">\\n          Stat Leaders\\n         </a>\\n        </li>\\n       </ul>\\n      </div>\\n     </div>\\n     <div class=\"b-foot__logo\">\\n      <a href=\"/\">\\n       <img alt=\"\" src=\"http://1e49bc5171d173577ecd-1323f4090557a33db01577564f60846c.r80.cf1.rackcdn.com/ufc-stats-foot-logo.png\"/>\\n      </a>\\n      <div class=\"b-foot__copy-inner\">\\n       © All Rights Reserved |\\n       <a class=\"b-foot__copy-link\" href=\"https://ufc.com/terms\" target=\"_blank\">\\n        Terms of Use\\n       </a>\\n       |\\n       <a class=\"b-foot__copy-link\" href=\"https://ufc.com/privacy-policy\" target=\"_blank\">\\n        Privacy Policy\\n       </a>\\n      </div>\\n     </div>\\n    </div>\\n   </div>\\n  </footer>\\n  <script src=\"//ajax.googleapis.com/ajax/libs/jquery/1.10.2/jquery.min.js\">\\n  </script>\\n  <script src=\"http://code.jquery.com/jquery-1.9.1.js\">\\n  </script>\\n  <script src=\"http://code.jquery.com/ui/1.10.3/jquery-ui.js\">\\n  </script>\\n  <link href=\"http://code.jquery.com/ui/1.10.3/themes/smoothness/jquery-ui.css\" rel=\"stylesheet\">\\n   <script>\\n    window.jQuery || document.write(\\'<script src=\"/js/vendor/jquery-1.10.2.min.js\"><\\\\/script>\\')\\n   </script>\\n   <script src=\"/js/vendor/jquery.validate.min.js\" type=\"text/javascript\">\\n   </script>\\n   <script src=\"/js/plugins.js\">\\n   </script>\\n   <script src=\"/js/main.js?ver=34458\">\\n   </script>\\n   <script type=\"text/javascript\">\\n    $(document).ready(function () {\\n        $(function () {\\n            $(\"#dialog\").dialog({\\n\\n                autoOpen: false,\\n                modal: true,\\n                show: {\\n                    effect: \"blind\",\\n                    duration: 1000\\n                },\\n                hide: {\\n                    effect: \"fold\",\\n                    duration: 1000\\n                }\\n\\n            });\\n        });\\n    }\\n\\n    );\\n    $(\"#opener\").click(function () {\\n        $(\"#dialog\").dialog(\"open\");\\n    });\\n    $(\"#opener\").click(function () {\\n        var state = true;\\n        if (state) {\\n            $(\"#dialog\").animate({\\n                backgroundColor: \"white\",\\n                color: \"black\"\\n\\n            }, 1000);\\n        }\\n    });\\n   </script>\\n   <script type=\"text/javascript\">\\n    /*window.onload = function (){\\n     // location.pathname.split( \\'/\\' )\\n     theUrl = window.location.host;\\n\\n\\n     if(theUrl === \\'hosteddb.fightmetric.com\\'){\\n         window.location.replace(\"http://www.fightmetric.com/statistics/events/upcoming\");\\n     }\\n\\n     //alert(theUrl);\\n  }*/\\n  //window.onpaint = handleHosted;\\n   </script>\\n  </link>\\n </body>\\n</html>'"
      ]
     },
     "execution_count": 4,
     "metadata": {},
     "output_type": "execute_result"
    }
   ],
   "source": [
    "soup.prettify()"
   ]
  },
  {
   "cell_type": "code",
   "execution_count": 19,
   "metadata": {},
   "outputs": [],
   "source": [
    "import pandas as pd\n",
    "from bs4 import BeautifulSoup\n",
    "\n",
    "def get_fight_data(fight_url):\n",
    "    table_body = soup.find('tbody', class_='b-fight-details__table-body')\n",
    "\n",
    "    data = []\n",
    "\n",
    "    # Iterate through table rows\n",
    "    for row in table_body.find_all('tr'):\n",
    "        cols = row.find_all('td')\n",
    "        fighter_names = cols[0].find_all('a', class_='b-link_style_black')\n",
    "        fighters = [name.get_text(strip=True) for name in fighter_names]\n",
    "        \n",
    "        kd = [col.get_text(strip=True) for col in cols[1].find_all('p')]\n",
    "        sig_str = [col.get_text(strip=True) for col in cols[2].find_all('p')]\n",
    "        sig_str_percent = [col.get_text(strip=True) for col in cols[3].find_all('p')]\n",
    "        total_str = [col.get_text(strip=True) for col in cols[4].find_all('p')]\n",
    "        td = [col.get_text(strip=True) for col in cols[5].find_all('p')]\n",
    "        td_percent = [col.get_text(strip=True) for col in cols[6].find_all('p')]\n",
    "        sub_att = [col.get_text(strip=True) for col in cols[7].find_all('p')]\n",
    "        rev = [col.get_text(strip=True) for col in cols[8].find_all('p')]\n",
    "        ctrl = [col.get_text(strip=True) for col in cols[9].find_all('p')]\n",
    "        \n",
    "        for i in range(len(fighters)):\n",
    "            data.append({\n",
    "                'Fighter': fighters[i],\n",
    "                'KD': kd[i],\n",
    "                'Sig. str.': sig_str[i],\n",
    "                'Sig. str. %': sig_str_percent[i],\n",
    "                'Total str.': total_str[i],\n",
    "                'Td': td[i],\n",
    "                'Td %': td_percent[i],\n",
    "                'Sub. att': sub_att[i],\n",
    "                'Rev.': rev[i],\n",
    "                'Ctrl': ctrl[i]\n",
    "            })\n",
    "\n",
    "    df = pd.DataFrame(data)\n",
    "\n",
    "\n",
    "    return df\n",
    "\n"
   ]
  },
  {
   "cell_type": "code",
   "execution_count": 12,
   "metadata": {},
   "outputs": [
    {
     "name": "stdout",
     "output_type": "stream",
     "text": [
      "http://www.ufcstats.com/fight-details/c27e33ee8ef53866\n",
      "http://www.ufcstats.com/fight-details/b22eab3aa1522f40\n",
      "http://www.ufcstats.com/fight-details/01a4827b3596d111\n",
      "http://www.ufcstats.com/fight-details/6fe9729cee57c680\n",
      "http://www.ufcstats.com/fight-details/692241119228cc82\n",
      "http://www.ufcstats.com/fight-details/6bcea00473e43a59\n",
      "http://www.ufcstats.com/fight-details/493b7a8e3253b133\n",
      "http://www.ufcstats.com/fight-details/a8ec9c513d28c25c\n",
      "http://www.ufcstats.com/fight-details/be17aaad7221e2d9\n"
     ]
    }
   ],
   "source": [
    "import requests\n",
    "from bs4 import BeautifulSoup\n",
    "\n",
    "def get_fighter_fight_urls(fighter_url):\n",
    "    page = requests.get(fighter_url)\n",
    "    soup = BeautifulSoup(page.content, 'html.parser')\n",
    "    \n",
    "    fight_urls = []\n",
    "    \n",
    "    fight_rows = soup.find_all('tr', class_='b-fight-details__table-row')\n",
    "    for fight_row in fight_rows:\n",
    "        fight_link_tag = fight_row.find('a', class_='b-flag b-flag_style_bordered')\n",
    "        if fight_link_tag:\n",
    "            fight_link = fight_link_tag['href']\n",
    "            fight_urls.append(fight_link)\n",
    "    \n",
    "    return fight_urls\n",
    "\n",
    "def main():\n",
    "    fighter_url = 'http://www.ufcstats.com/fighter-details/029eaff01e6bb8f0'\n",
    "    fight_urls = get_fighter_fight_urls(fighter_url)\n",
    "\n",
    "    for fight_url in fight_urls:\n",
    "        print(fight_url)\n",
    "\n",
    "if __name__ == \"__main__\":\n",
    "    main()\n"
   ]
  },
  {
   "cell_type": "code",
   "execution_count": 15,
   "metadata": {},
   "outputs": [
    {
     "name": "stdout",
     "output_type": "stream",
     "text": [
      "{'Fighter 1': 'Dustin Poirier', 'Fighter 2': 'Justin Gaethje'}\n",
      "{'Fighter 1': 'Charles Oliveira', 'Fighter 2': 'Dustin Poirier'}\n",
      "{'Fighter 1': 'Khabib Nurmagomedov', 'Fighter 2': 'Dustin Poirier'}\n",
      "{'Fighter 1': 'Eddie Alvarez', 'Fighter 2': 'Dustin Poirier'}\n",
      "{'Fighter 1': 'Dustin Poirier', 'Fighter 2': 'Michael Johnson'}\n",
      "{'Fighter 1': 'Dustin Poirier', 'Fighter 2': 'Conor McGregor'}\n",
      "{'Fighter 1': 'Cub Swanson', 'Fighter 2': 'Dustin Poirier'}\n",
      "{'Fighter 1': 'Chan Sung Jung', 'Fighter 2': 'Dustin Poirier'}\n",
      "{'Fighter 1': 'Danny Castillo', 'Fighter 2': 'Dustin Poirier'}\n"
     ]
    }
   ],
   "source": [
    "import requests\n",
    "from bs4 import BeautifulSoup\n",
    "\n",
    "def scrape_fight_data(fight_url):\n",
    "    fight_page = requests.get(fight_url)\n",
    "    fight_soup = BeautifulSoup(fight_page.content, 'html.parser')\n",
    "    \n",
    "    fight_data = {}\n",
    "    \n",
    "    # Extract fight data based on the HTML structure of the fight page\n",
    "    fight_data['Fighter 1'] = fight_soup.find_all('a', class_='b-link_style_black')[0].get_text(strip=True)\n",
    "    fight_data['Fighter 2'] = fight_soup.find_all('a', class_='b-link_style_black')[1].get_text(strip=True)\n",
    "    \n",
    "    # Extract other fight data similarly\n",
    "    # Adjust this part based on the actual structure of the fight's page\n",
    "    \n",
    "    return fight_data\n",
    "\n",
    "def main():\n",
    "    fighter_url = 'http://www.ufcstats.com/fighter-details/029eaff01e6bb8f0'\n",
    "    fight_urls = get_fighter_fight_urls(fighter_url)\n",
    "\n",
    "    all_fight_data = []\n",
    "    for fight_url in fight_urls:\n",
    "        fight_data = scrape_fight_data(fight_url)\n",
    "        all_fight_data.append(fight_data)\n",
    "\n",
    "    # Print the scraped fight data for each fight\n",
    "    for fight_data in all_fight_data:\n",
    "        print(fight_data)\n",
    "\n",
    "if __name__ == \"__main__\":\n",
    "    main()\n",
    "\n",
    "\n"
   ]
  },
  {
   "cell_type": "code",
   "execution_count": 16,
   "metadata": {},
   "outputs": [
    {
     "ename": "IndexError",
     "evalue": "list index out of range",
     "output_type": "error",
     "traceback": [
      "\u001b[1;31m---------------------------------------------------------------------------\u001b[0m",
      "\u001b[1;31mIndexError\u001b[0m                                Traceback (most recent call last)",
      "\u001b[1;32m~\\AppData\\Local\\Temp\\ipykernel_8536\\1151275397.py\u001b[0m in \u001b[0;36m<module>\u001b[1;34m\u001b[0m\n\u001b[0;32m     40\u001b[0m \u001b[1;33m\u001b[0m\u001b[0m\n\u001b[0;32m     41\u001b[0m \u001b[1;32mif\u001b[0m \u001b[0m__name__\u001b[0m \u001b[1;33m==\u001b[0m \u001b[1;34m\"__main__\"\u001b[0m\u001b[1;33m:\u001b[0m\u001b[1;33m\u001b[0m\u001b[1;33m\u001b[0m\u001b[0m\n\u001b[1;32m---> 42\u001b[1;33m     \u001b[0mmain\u001b[0m\u001b[1;33m(\u001b[0m\u001b[1;33m)\u001b[0m\u001b[1;33m\u001b[0m\u001b[1;33m\u001b[0m\u001b[0m\n\u001b[0m",
      "\u001b[1;32m~\\AppData\\Local\\Temp\\ipykernel_8536\\1151275397.py\u001b[0m in \u001b[0;36mmain\u001b[1;34m()\u001b[0m\n\u001b[0;32m     33\u001b[0m     \u001b[0mall_fight_data\u001b[0m \u001b[1;33m=\u001b[0m \u001b[1;33m[\u001b[0m\u001b[1;33m]\u001b[0m\u001b[1;33m\u001b[0m\u001b[1;33m\u001b[0m\u001b[0m\n\u001b[0;32m     34\u001b[0m     \u001b[1;32mfor\u001b[0m \u001b[0mfight_url\u001b[0m \u001b[1;32min\u001b[0m \u001b[0mfight_urls\u001b[0m\u001b[1;33m:\u001b[0m\u001b[1;33m\u001b[0m\u001b[1;33m\u001b[0m\u001b[0m\n\u001b[1;32m---> 35\u001b[1;33m         \u001b[0mfight_data\u001b[0m \u001b[1;33m=\u001b[0m \u001b[0mscrape_fight_data\u001b[0m\u001b[1;33m(\u001b[0m\u001b[0mfight_url\u001b[0m\u001b[1;33m)\u001b[0m\u001b[1;33m\u001b[0m\u001b[1;33m\u001b[0m\u001b[0m\n\u001b[0m\u001b[0;32m     36\u001b[0m         \u001b[0mall_fight_data\u001b[0m\u001b[1;33m.\u001b[0m\u001b[0mappend\u001b[0m\u001b[1;33m(\u001b[0m\u001b[0mfight_data\u001b[0m\u001b[1;33m)\u001b[0m\u001b[1;33m\u001b[0m\u001b[1;33m\u001b[0m\u001b[0m\n\u001b[0;32m     37\u001b[0m \u001b[1;33m\u001b[0m\u001b[0m\n",
      "\u001b[1;32m~\\AppData\\Local\\Temp\\ipykernel_8536\\1151275397.py\u001b[0m in \u001b[0;36mscrape_fight_data\u001b[1;34m(fight_url)\u001b[0m\n\u001b[0;32m     19\u001b[0m     \u001b[1;32mfor\u001b[0m \u001b[0mrow\u001b[0m \u001b[1;32min\u001b[0m \u001b[0mrows\u001b[0m\u001b[1;33m:\u001b[0m\u001b[1;33m\u001b[0m\u001b[1;33m\u001b[0m\u001b[0m\n\u001b[0;32m     20\u001b[0m         \u001b[0mcols\u001b[0m \u001b[1;33m=\u001b[0m \u001b[0mrow\u001b[0m\u001b[1;33m.\u001b[0m\u001b[0mfind_all\u001b[0m\u001b[1;33m(\u001b[0m\u001b[1;34m'td'\u001b[0m\u001b[1;33m)\u001b[0m\u001b[1;33m\u001b[0m\u001b[1;33m\u001b[0m\u001b[0m\n\u001b[1;32m---> 21\u001b[1;33m         \u001b[0mfight_data\u001b[0m\u001b[1;33m[\u001b[0m\u001b[0mcols\u001b[0m\u001b[1;33m[\u001b[0m\u001b[1;36m1\u001b[0m\u001b[1;33m]\u001b[0m\u001b[1;33m.\u001b[0m\u001b[0mget_text\u001b[0m\u001b[1;33m(\u001b[0m\u001b[0mstrip\u001b[0m\u001b[1;33m=\u001b[0m\u001b[1;32mTrue\u001b[0m\u001b[1;33m)\u001b[0m\u001b[1;33m]\u001b[0m \u001b[1;33m=\u001b[0m \u001b[0mcols\u001b[0m\u001b[1;33m[\u001b[0m\u001b[1;36m2\u001b[0m\u001b[1;33m]\u001b[0m\u001b[1;33m.\u001b[0m\u001b[0mget_text\u001b[0m\u001b[1;33m(\u001b[0m\u001b[0mstrip\u001b[0m\u001b[1;33m=\u001b[0m\u001b[1;32mTrue\u001b[0m\u001b[1;33m)\u001b[0m\u001b[1;33m\u001b[0m\u001b[1;33m\u001b[0m\u001b[0m\n\u001b[0m\u001b[0;32m     22\u001b[0m         \u001b[0mfight_data\u001b[0m\u001b[1;33m[\u001b[0m\u001b[0mcols\u001b[0m\u001b[1;33m[\u001b[0m\u001b[1;36m3\u001b[0m\u001b[1;33m]\u001b[0m\u001b[1;33m.\u001b[0m\u001b[0mget_text\u001b[0m\u001b[1;33m(\u001b[0m\u001b[0mstrip\u001b[0m\u001b[1;33m=\u001b[0m\u001b[1;32mTrue\u001b[0m\u001b[1;33m)\u001b[0m\u001b[1;33m]\u001b[0m \u001b[1;33m=\u001b[0m \u001b[0mcols\u001b[0m\u001b[1;33m[\u001b[0m\u001b[1;36m4\u001b[0m\u001b[1;33m]\u001b[0m\u001b[1;33m.\u001b[0m\u001b[0mget_text\u001b[0m\u001b[1;33m(\u001b[0m\u001b[0mstrip\u001b[0m\u001b[1;33m=\u001b[0m\u001b[1;32mTrue\u001b[0m\u001b[1;33m)\u001b[0m\u001b[1;33m\u001b[0m\u001b[1;33m\u001b[0m\u001b[0m\n\u001b[0;32m     23\u001b[0m         \u001b[0mfight_data\u001b[0m\u001b[1;33m[\u001b[0m\u001b[0mcols\u001b[0m\u001b[1;33m[\u001b[0m\u001b[1;36m5\u001b[0m\u001b[1;33m]\u001b[0m\u001b[1;33m.\u001b[0m\u001b[0mget_text\u001b[0m\u001b[1;33m(\u001b[0m\u001b[0mstrip\u001b[0m\u001b[1;33m=\u001b[0m\u001b[1;32mTrue\u001b[0m\u001b[1;33m)\u001b[0m\u001b[1;33m]\u001b[0m \u001b[1;33m=\u001b[0m \u001b[0mcols\u001b[0m\u001b[1;33m[\u001b[0m\u001b[1;36m6\u001b[0m\u001b[1;33m]\u001b[0m\u001b[1;33m.\u001b[0m\u001b[0mget_text\u001b[0m\u001b[1;33m(\u001b[0m\u001b[0mstrip\u001b[0m\u001b[1;33m=\u001b[0m\u001b[1;32mTrue\u001b[0m\u001b[1;33m)\u001b[0m\u001b[1;33m\u001b[0m\u001b[1;33m\u001b[0m\u001b[0m\n",
      "\u001b[1;31mIndexError\u001b[0m: list index out of range"
     ]
    }
   ],
   "source": [
    "import requests\n",
    "from bs4 import BeautifulSoup\n",
    "import pandas as pd\n",
    "\n",
    "def scrape_fight_data(fight_url):\n",
    "    fight_page = requests.get(fight_url)\n",
    "    fight_soup = BeautifulSoup(fight_page.content, 'html.parser')\n",
    "    \n",
    "    fight_data = {}\n",
    "    \n",
    "    # Extract fighter names\n",
    "    fight_data['Fighter 1'] = fight_soup.find_all('a', class_='b-link_style_black')[0].get_text(strip=True)\n",
    "    fight_data['Fighter 2'] = fight_soup.find_all('a', class_='b-link_style_black')[1].get_text(strip=True)\n",
    "    \n",
    "    # Extract other fight data\n",
    "    stats_table = fight_soup.find('table', class_='b-fight-details__table')\n",
    "    rows = stats_table.find_all('tr', class_='b-fight-details__table-row')\n",
    "    \n",
    "    for row in rows:\n",
    "        cols = row.find_all('td')\n",
    "        fight_data[cols[1].get_text(strip=True)] = cols[2].get_text(strip=True)\n",
    "        fight_data[cols[3].get_text(strip=True)] = cols[4].get_text(strip=True)\n",
    "        fight_data[cols[5].get_text(strip=True)] = cols[6].get_text(strip=True)\n",
    "        fight_data[cols[7].get_text(strip=True)] = cols[8].get_text(strip=True)\n",
    "        fight_data[cols[9].get_text(strip=True)] = cols[10].get_text(strip=True)\n",
    "    \n",
    "    return fight_data\n",
    "\n",
    "def main():\n",
    "    fighter_url = 'http://www.ufcstats.com/fighter-details/029eaff01e6bb8f0'\n",
    "    fight_urls = get_fighter_fight_urls(fighter_url)\n",
    "\n",
    "    all_fight_data = []\n",
    "    for fight_url in fight_urls:\n",
    "        fight_data = scrape_fight_data(fight_url)\n",
    "        all_fight_data.append(fight_data)\n",
    "\n",
    "    df = pd.DataFrame(all_fight_data)\n",
    "    print(df)\n",
    "\n",
    "if __name__ == \"__main__\":\n",
    "    main()\n"
   ]
  }
 ],
 "metadata": {
  "interpreter": {
   "hash": "cbd62a077037a471929e37035c569dea45fa1cdc91518d7dfb41fed798530f5d"
  },
  "kernelspec": {
   "display_name": "Python 3.9.13 ('base')",
   "language": "python",
   "name": "python3"
  },
  "language_info": {
   "codemirror_mode": {
    "name": "ipython",
    "version": 3
   },
   "file_extension": ".py",
   "mimetype": "text/x-python",
   "name": "python",
   "nbconvert_exporter": "python",
   "pygments_lexer": "ipython3",
   "version": "3.9.13"
  },
  "orig_nbformat": 4
 },
 "nbformat": 4,
 "nbformat_minor": 2
}
