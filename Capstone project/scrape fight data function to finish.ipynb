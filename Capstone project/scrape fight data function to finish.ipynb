{
 "cells": [
  {
   "cell_type": "code",
   "execution_count": 1,
   "metadata": {},
   "outputs": [],
   "source": [
    "# FUNCTION TO SCRAPE DATA FROM A FIGHT URL\n",
    "\n",
    "import pandas as pd\n",
    "from sklearn.model_selection import train_test_split\n",
    "from sklearn.ensemble import RandomForestClassifier\n",
    "from sklearn.metrics import accuracy_score, classification_report\n",
    "from sklearn.preprocessing import LabelEncoder\n",
    "from bs4 import BeautifulSoup\n",
    "import requests\n",
    "import re\n",
    "from datetime import datetime\n"
   ]
  },
  {
   "cell_type": "code",
   "execution_count": null,
   "metadata": {},
   "outputs": [],
   "source": [
    "\n",
    "def scrape_fight_data(fight_url):\n",
    "        return new_df\n",
    "    "
   ]
  },
  {
   "cell_type": "code",
   "execution_count": 2,
   "metadata": {},
   "outputs": [],
   "source": [
    "fighter_url = 'http://www.ufcstats.com/fighter-details/029eaff01e6bb8f0'"
   ]
  },
  {
   "cell_type": "code",
   "execution_count": 3,
   "metadata": {},
   "outputs": [],
   "source": [
    "fight_url = 'http://www.ufcstats.com/fight-details/c27e33ee8ef53866' # Poirier vs Gaethje"
   ]
  },
  {
   "cell_type": "code",
   "execution_count": 4,
   "metadata": {},
   "outputs": [],
   "source": [
    "fight_page = requests.get(fight_url)\n",
    "fight_soup = BeautifulSoup(fight_page.content, 'html.parser')\n",
    "\n",
    "data = []\n",
    "fight_table = fight_soup.find('tbody', class_='b-fight-details__table-body')\n",
    "\n",
    "fighter_divs = fight_soup.find_all('div', class_='b-fight-details__person')\n",
    "outcomes = [outcome_tag.get_text(strip=True) if (outcome_tag := fighter_div.find('i', class_='b-fight-details__person-status')) else None for fighter_div in fighter_divs]\n",
    "\n",
    "for row in fight_table.find_all('tr', class_='b-fight-details__table-row'):\n",
    "    fighter_names = row.find_all('a', class_='b-link_style_black')\n",
    "    fighters = [name.get_text(strip=True) for name in fighter_names]\n",
    "\n",
    "    kd = [col.get_text(strip=True) for col in row.find_all('td')[1].find_all('p')]\n",
    "    sig_str = [col.get_text(strip=True) for col in row.find_all('td')[2].find_all('p')]\n",
    "    sig_str_percent = [col.get_text(strip=True) for col in row.find_all('td')[3].find_all('p')]\n",
    "    total_str = [col.get_text(strip=True) for col in row.find_all('td')[4].find_all('p')]\n",
    "    td = [col.get_text(strip=True) for col in row.find_all('td')[5].find_all('p')]\n",
    "    td_percent = [col.get_text(strip=True) for col in row.find_all('td')[6].find_all('p')]\n",
    "    sub_att = [col.get_text(strip=True) for col in row.find_all('td')[7].find_all('p')]\n",
    "    rev = [col.get_text(strip=True) for col in row.find_all('td')[8].find_all('p')]\n",
    "    ctrl = [col.get_text(strip=True) for col in row.find_all('td')[9].find_all('p')]\n",
    "\n",
    "    for i in range(len(fighters)):\n",
    "        fight_info = {\n",
    "            'Fighter': fighters[i],\n",
    "            'KD': kd[i],\n",
    "            'Sig. str.': sig_str[i],\n",
    "            'Sig. str. %': sig_str_percent[i],\n",
    "            'Total str.': total_str[i],\n",
    "            'Td': td[i],\n",
    "            'Td %': td_percent[i],\n",
    "            'Sub. att': sub_att[i],\n",
    "            'Rev.': rev[i],\n",
    "            'Ctrl': ctrl[i],\n",
    "            'Fight URL': fight_url,\n",
    "            'Outcome': outcomes[i] \n",
    "        }\n",
    "        data.append(fight_info)\n",
    "\n",
    "df = pd.DataFrame(data)\n",
    "\n",
    "new_data = []\n",
    "new_columns = [\n",
    "    'Fighter', 'Opponent', 'KD', 'Opponent KD', 'Sig. str.', 'Opponent Sig. str.',\n",
    "    'Sig. str. %', 'Opponent Sig. str. %', 'Total str.', 'Opponent Total str.',\n",
    "    'Td', 'Opponent Td', 'Td %', 'Opponent Td %', 'Sub. att', 'Opponent Sub. att',\n",
    "    'Rev.', 'Opponent Rev.', 'Ctrl', 'Opponent Ctrl', 'Fight URL', 'Outcome'\n",
    "]\n",
    "\n",
    "for i in range(0, len(df), 2):\n",
    "    fighter_row = df.iloc[i]\n",
    "    opponent_row = df.iloc[i + 1]\n",
    "\n",
    "    new_row = [\n",
    "        fighter_row['Fighter'], opponent_row['Fighter'],\n",
    "        fighter_row['KD'], opponent_row['KD'],\n",
    "        fighter_row['Sig. str.'], opponent_row['Sig. str.'],\n",
    "        fighter_row['Sig. str. %'], opponent_row['Sig. str. %'],\n",
    "        fighter_row['Total str.'], opponent_row['Total str.'],\n",
    "        fighter_row['Td'], opponent_row['Td'],\n",
    "        fighter_row['Td %'], opponent_row['Td %'],\n",
    "        fighter_row['Sub. att'], opponent_row['Sub. att'],\n",
    "        fighter_row['Rev.'], opponent_row['Rev.'],\n",
    "        fighter_row['Ctrl'], opponent_row['Ctrl'],\n",
    "        fighter_row['Fight URL'], fighter_row['Outcome']\n",
    "    ]\n",
    "\n",
    "    new_data.append(new_row)\n",
    "\n",
    "new_df = pd.DataFrame(new_data, columns=new_columns)\n",
    "\n"
   ]
  },
  {
   "cell_type": "code",
   "execution_count": 6,
   "metadata": {},
   "outputs": [
    {
     "data": {
      "text/plain": [
       "['Fighter',\n",
       " 'Opponent',\n",
       " 'KD',\n",
       " 'Opponent KD',\n",
       " 'Sig. str.',\n",
       " 'Opponent Sig. str.',\n",
       " 'Sig. str. %',\n",
       " 'Opponent Sig. str. %',\n",
       " 'Total str.',\n",
       " 'Opponent Total str.',\n",
       " 'Td',\n",
       " 'Opponent Td',\n",
       " 'Td %',\n",
       " 'Opponent Td %',\n",
       " 'Sub. att',\n",
       " 'Opponent Sub. att',\n",
       " 'Rev.',\n",
       " 'Opponent Rev.',\n",
       " 'Ctrl',\n",
       " 'Opponent Ctrl',\n",
       " 'Fight URL',\n",
       " 'Outcome']"
      ]
     },
     "execution_count": 6,
     "metadata": {},
     "output_type": "execute_result"
    }
   ],
   "source": [
    "new_df.columns.tolist()"
   ]
  }
 ],
 "metadata": {
  "kernelspec": {
   "display_name": "Python 3",
   "language": "python",
   "name": "python3"
  },
  "language_info": {
   "codemirror_mode": {
    "name": "ipython",
    "version": 3
   },
   "file_extension": ".py",
   "mimetype": "text/x-python",
   "name": "python",
   "nbconvert_exporter": "python",
   "pygments_lexer": "ipython3",
   "version": "3.11.1"
  },
  "orig_nbformat": 4
 },
 "nbformat": 4,
 "nbformat_minor": 2
}
